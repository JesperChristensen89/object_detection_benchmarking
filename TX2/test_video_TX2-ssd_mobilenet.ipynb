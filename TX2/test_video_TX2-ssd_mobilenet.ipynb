{
 "cells": [
  {
   "cell_type": "markdown",
   "metadata": {},
   "source": [
    "# Imports"
   ]
  },
  {
   "cell_type": "code",
   "execution_count": 1,
   "metadata": {},
   "outputs": [],
   "source": [
    "from imutils.video import FileVideoStream, FPS\n",
    "import sys\n",
    "from IPython.display import clear_output\n",
    "import warnings\n",
    "warnings.filterwarnings('ignore')    \n",
    "import os\n",
    "import cv2\n",
    "import time\n",
    "import argparse\n",
    "import multiprocessing\n",
    "import numpy as np\n",
    "import tensorflow as tf\n",
    "import threading\n",
    "\n",
    "sys.path.append('..')\n",
    "sys.path.append('../utils/')\n",
    "\n",
    "from multiprocessing import Queue, Pool\n",
    "from object_detection.utils import label_map_util\n",
    "from object_detection.utils import visualization_utils as vis_util"
   ]
  },
  {
   "cell_type": "markdown",
   "metadata": {},
   "source": [
    "# Env setup"
   ]
  },
  {
   "cell_type": "code",
   "execution_count": 2,
   "metadata": {},
   "outputs": [],
   "source": [
    "\n",
    "\n",
    "PATH_TO_MODEL = \"../models/ssd_mobilenet_v1_coco/frozen_inference_graph.pb\"\n",
    "PATH_TO_LABELS = \"../object_detection/data/mscoco_label_map.pbtxt\"\n",
    "PATH_TO_VIDEO = \"../data/test_video.mp4\"\n",
    "\n",
    "NUM_CLASSES = 90"
   ]
  },
  {
   "cell_type": "markdown",
   "metadata": {},
   "source": [
    "# Load label map"
   ]
  },
  {
   "cell_type": "code",
   "execution_count": 3,
   "metadata": {},
   "outputs": [],
   "source": [
    "from object_detection.utils import label_map_util\n",
    "\n",
    "from object_detection.utils import visualization_utils as vis_util\n",
    "\n",
    "label_map = label_map_util.load_labelmap(PATH_TO_LABELS)\n",
    "categories = label_map_util.convert_label_map_to_categories(label_map, max_num_classes=NUM_CLASSES,\n",
    "                                                           use_display_name = True)\n",
    "category_index = label_map_util.create_category_index(categories)"
   ]
  },
  {
   "cell_type": "markdown",
   "metadata": {},
   "source": [
    "# Allow memory growth"
   ]
  },
  {
   "cell_type": "code",
   "execution_count": 4,
   "metadata": {
    "scrolled": false
   },
   "outputs": [],
   "source": [
    "# Session Config: Limit GPU Memory Usage\n",
    "config = tf.ConfigProto()\n",
    "config.gpu_options.allow_growth=True"
   ]
  },
  {
   "cell_type": "markdown",
   "metadata": {},
   "source": [
    "# Load frozen inference graph"
   ]
  },
  {
   "cell_type": "code",
   "execution_count": 5,
   "metadata": {},
   "outputs": [],
   "source": [
    "detection_graph = tf.Graph()\n",
    "with detection_graph.as_default():\n",
    "    od_graph_def = tf.GraphDef()\n",
    "    with tf.gfile.GFile(PATH_TO_MODEL, 'rb') as fid:\n",
    "        serialized_graph = fid.read()\n",
    "        od_graph_def.ParseFromString(serialized_graph)\n",
    "        tf.import_graph_def(od_graph_def, name='')"
   ]
  },
  {
   "cell_type": "markdown",
   "metadata": {},
   "source": [
    "# Run detection"
   ]
  },
  {
   "cell_type": "code",
   "execution_count": 7,
   "metadata": {
    "scrolled": false
   },
   "outputs": [
    {
     "name": "stdout",
     "output_type": "stream",
     "text": [
      "[INFO] starting video stream\n",
      "[INFO] warming up on dummy image\n",
      "[INFO] starting inference\n",
      "[INFO] detection FPS: 4.59\n",
      "[INFO] Frame count: 50\n",
      "[INFO] detection FPS: 4.61\n",
      "[INFO] Frame count: 100\n",
      "[INFO] detection FPS: 4.62\n",
      "[INFO] Frame count: 150\n",
      "[INFO] detection FPS: 4.63\n",
      "[INFO] Frame count: 200\n",
      "[INFO] detection FPS: 4.63\n",
      "[INFO] Frame count: 250\n",
      "[INFO] detection FPS: 4.62\n",
      "[INFO] Frame count: 300\n",
      "[INFO] detection FPS: 4.60\n",
      "[INFO] Frame count: 350\n",
      "[INFO] detection FPS: 4.60\n",
      "[INFO] Frame count: 400\n",
      "[INFO] detection FPS: 4.61\n",
      "[INFO] Frame count: 450\n",
      "[INFO] detection FPS: 4.62\n",
      "[INFO] Frame count: 500\n",
      "[INFO] detection FPS: 4.62\n",
      "[INFO] Frame count: 550\n",
      "[INFO] detection FPS: 4.63\n",
      "[INFO] Frame count: 600\n",
      "[INFO] detection FPS: 4.63\n",
      "[INFO] Frame count: 650\n",
      "[INFO] detection FPS: 4.64\n",
      "[INFO] Frame count: 700\n",
      "[INFO] detection FPS: 4.64\n",
      "[INFO] Frame count: 750\n",
      "[INFO] detection FPS: 4.65\n",
      "[INFO] Frame count: 800\n",
      "[INFO] detection FPS: 4.66\n",
      "[INFO] Frame count: 850\n",
      "[INFO] detection FPS: 4.68\n",
      "[INFO] Frame count: 900\n",
      "[INFO] Reached end of file - stopping inference\n"
     ]
    }
   ],
   "source": [
    "with detection_graph.as_default():\n",
    "    with tf.Session(graph=detection_graph, config = config) as sess:\n",
    "        # Definite input and output Tensors for detection_graph\n",
    "        image_tensor = detection_graph.get_tensor_by_name('image_tensor:0')\n",
    "        # Bounding boxes\n",
    "        detection_boxes = detection_graph.get_tensor_by_name('detection_boxes:0')\n",
    "        # Each score represent how level of confidence for each of the objects.\n",
    "        # Score is shown on the result image, together with the class label.\n",
    "        detection_scores = detection_graph.get_tensor_by_name('detection_scores:0')\n",
    "        detection_classes = detection_graph.get_tensor_by_name('detection_classes:0')\n",
    "        num_detections = detection_graph.get_tensor_by_name('num_detections:0')\n",
    "\n",
    "        # Start Videofile stream\n",
    "        print(\"[INFO] starting video stream\")\n",
    "        video_stream = FileVideoStream(PATH_TO_VIDEO).start()\n",
    "        # let queue fill up\n",
    "        time.sleep(3)\n",
    "        # Warmup on a dummy image\n",
    "        print(\"[INFO] warming up on dummy image\")\n",
    "        image_np_expanded = 128 * np.ones((1,300, 300, 3), dtype=np.uint8)\n",
    "        for i in range(2):\n",
    "            (boxes, scores, classes, num) = sess.run(\n",
    "                  [detection_boxes, detection_scores, detection_classes, num_detections],\n",
    "                  feed_dict={image_tensor: image_np_expanded})\n",
    "\n",
    "        # fps calculation\n",
    "        fps = FPS().start()\n",
    "        frame_cnt = 0\n",
    "        detect_accumulated = 0\n",
    "        print(\"[INFO] starting inference\")\n",
    "        try:\n",
    "            while video_stream.more():\n",
    "                # read frame from video\n",
    "                image_np = video_stream.read()\n",
    "                # Expand dimensions since the model expects images to have shape: [1, None, None, 3]\n",
    "                image_np_expanded = np.expand_dims(image_np, axis=0)\n",
    "                # Actual detection.\n",
    "                t_detect = time.time()\n",
    "                (boxes, scores, classes, num) = sess.run(\n",
    "                    [detection_boxes, detection_scores, detection_classes, num_detections],\n",
    "                    feed_dict={image_tensor: image_np_expanded})\n",
    "                detect_accumulated = detect_accumulated + (time.time() - t_detect)\n",
    "\n",
    "                #update framcounter\n",
    "                frame_cnt = frame_cnt + 1\n",
    "                if (frame_cnt % 50)== 0:\n",
    "                    print(\"[INFO] detection FPS: {:.2f}\".format(frame_cnt/detect_accumulated))\n",
    "                    #print(\"[INFO] total FPS: {:.2f}\".format(fps.fps()))\n",
    "                    print(\"[INFO] Frame count: {:d}\".format(frame_cnt))\n",
    "                    \n",
    "                # fps calculation\n",
    "                fps.update()                \n",
    "        except KeyboardInterrupt:\n",
    "            pass\n",
    "\n",
    "\n",
    "        # End everything\n",
    "        print(\"[INFO] Reached end of file - stopping inference\")\n",
    "        fps.stop()\n",
    "        video_stream.stop()     "
   ]
  },
  {
   "cell_type": "markdown",
   "metadata": {},
   "source": [
    "# Summary"
   ]
  },
  {
   "cell_type": "code",
   "execution_count": 8,
   "metadata": {},
   "outputs": [
    {
     "name": "stdout",
     "output_type": "stream",
     "text": [
      "----------------------------------------------------\n",
      "Summary:\n",
      "FPS for detection: 4.68\n",
      "FPS entire processing: 4.67\n",
      "Time taken to post-process 31s videofile: 194.06s\n"
     ]
    }
   ],
   "source": [
    "print('----------------------------------------------------')\n",
    "print('Summary:')\n",
    "print('FPS for detection: {:.2f}'.format(frame_cnt/detect_accumulated))\n",
    "print('FPS entire processing: {:.2f}'.format(fps.fps()))\n",
    "print('Time taken to post-process 31s videofile: {:.2f}s'.format(fps.elapsed()))"
   ]
  },
  {
   "cell_type": "code",
   "execution_count": null,
   "metadata": {},
   "outputs": [],
   "source": []
  }
 ],
 "metadata": {
  "kernelspec": {
   "display_name": "Python 2",
   "language": "python",
   "name": "python2"
  },
  "language_info": {
   "codemirror_mode": {
    "name": "ipython",
    "version": 2
   },
   "file_extension": ".py",
   "mimetype": "text/x-python",
   "name": "python",
   "nbconvert_exporter": "python",
   "pygments_lexer": "ipython2",
   "version": "2.7.12"
  }
 },
 "nbformat": 4,
 "nbformat_minor": 2
}
